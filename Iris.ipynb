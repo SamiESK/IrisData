{
  "nbformat": 4,
  "nbformat_minor": 0,
  "metadata": {
    "colab": {
      "name": "HW1.ipynb",
      "provenance": [],
      "collapsed_sections": [],
      "history_visible": true
    },
    "kernelspec": {
      "name": "python3",
      "display_name": "Python 3"
    }
  },
  "cells": [
    {
      "cell_type": "markdown",
      "metadata": {
        "id": "qfXnCqgW_MT4"
      },
      "source": [
        "                        **Data Exploration / Linear Regression and k Nearest Neighbor**\n",
        "1)  Write code to count the number of examples per class.  Is this a balanced or unbalanced dataset? "
      ]
    },
    {
      "cell_type": "code",
      "metadata": {
        "id": "U6CF3R_25pqV",
        "colab": {
          "base_uri": "https://localhost:8080/"
        },
        "outputId": "1bf6d664-8d68-46f8-9cd5-bcbca5a2e40e"
      },
      "source": [
        "# Sami Eskirjeh, \n",
        "\n",
        "import numpy as np\n",
        "import pandas as pd\n",
        "\n",
        "# Navigation link to find raw text of dataset\n",
        "url = 'https://raw.githubusercontent.com/SamiESK/IrisData/master/IrisData'\n",
        "dataset = pd.read_csv(url, header = None)\n",
        "\n",
        "# Initialise counters to 0\n",
        "IrisSetosa = 0\n",
        "IrisVersicolour = 0\n",
        "IrisVirginica = 0\n",
        "\n",
        "# iloc method to indicate where to start looking while there is no header to read\n",
        "x = dataset.iloc[:,4]\n",
        "\n",
        "# for loops to find character that match desired results\n",
        "for i in x:\n",
        "  if i =='Iris-setosa':\n",
        "    IrisSetosa += 1 # increment counter by one\n",
        "\n",
        "# print value of classes\n",
        "print(\"Number of Iris Setosa examples is\",IrisSetosa)\n",
        "\n",
        "for i in x:\n",
        "  if i =='Iris-versicolor':\n",
        "    IrisVersicolour += 1\n",
        "\n",
        "print(\"Number of Iris Versicolour examples is\",IrisVersicolour)\n",
        "\n",
        "for i in x:\n",
        "  if i =='Iris-virginica':\n",
        "    IrisVirginica += 1\n",
        "\n",
        "print(\"Number of Iris Virginica examples is\", IrisVirginica)"
      ],
      "execution_count": 3,
      "outputs": [
        {
          "output_type": "stream",
          "text": [
            "Number of Iris Setosa examples is 50\n",
            "Number of Iris Versicolour examples is 50\n",
            "Number of Iris Virginica examples is 50\n"
          ],
          "name": "stdout"
        }
      ]
    },
    {
      "cell_type": "markdown",
      "metadata": {
        "id": "bGdI9nzSRV1g"
      },
      "source": [
        "Answer 1) Yes the data set is balanced since each class has equal amounts of examples we can work with. Each class has a weight of 50."
      ]
    },
    {
      "cell_type": "markdown",
      "metadata": {
        "id": "NjbnzLMx_YiW"
      },
      "source": [
        "2)  This dataset has four attributes: sepal_length, sepal_width, petal_length, and petal_width.  Write code to calculate the minimum and maximum values for each attribute."
      ]
    },
    {
      "cell_type": "code",
      "metadata": {
        "id": "7YRff3ZGrks4",
        "colab": {
          "base_uri": "https://localhost:8080/"
        },
        "outputId": "bd478272-53a1-4871-81db-b78dc7ad361f"
      },
      "source": [
        "sepal_length = dataset.iloc[:, 0:1]\n",
        "sepal_width = dataset.iloc[:, 1:2]\n",
        "petal_length = dataset.iloc[:, 2:3]\n",
        "petal_width = dataset.iloc[:, 3:4]\n",
        "\n",
        "sepal_lengthMin = sepal_length.min()\n",
        "print('Min of first attribute is', sepal_lengthMin.min())\n",
        "\n",
        "sepal_lengthMax = sepal_length.max()\n",
        "print('Max of first attribute is', sepal_lengthMax.max())\n",
        "print()\n",
        "\n",
        "sepal_widthMin = sepal_width.min()\n",
        "print('Min of second attribute is', sepal_widthMin.min())\n",
        "\n",
        "sepal_widthMax = sepal_width.max()\n",
        "print('Max of second attribute is', sepal_widthMax.max())\n",
        "print()\n",
        "\n",
        "petal_lengthMin = petal_length.min()\n",
        "print('Min of third attribute is', petal_lengthMin.min())\n",
        "\n",
        "petal_lengthMax = petal_length.max()\n",
        "print('Max of third attribute is', petal_lengthMax.max())\n",
        "print()\n",
        "\n",
        "petal_widthMin = petal_width.min()\n",
        "print('Min of fourth attribute is', petal_widthMin.min())\n",
        "\n",
        "petal_widthMax = petal_width.max()\n",
        "print('Max of fourth attribute is', petal_widthMax.max())"
      ],
      "execution_count": 4,
      "outputs": [
        {
          "output_type": "stream",
          "text": [
            "Min of first attribute is 4.3\n",
            "Max of first attribute is 7.9\n",
            "\n",
            "Min of second attribute is 2.0\n",
            "Max of second attribute is 4.4\n",
            "\n",
            "Min of third attribute is 1.0\n",
            "Max of third attribute is 6.9\n",
            "\n",
            "Min of fourth attribute is 0.1\n",
            "Max of fourth attribute is 2.5\n"
          ],
          "name": "stdout"
        }
      ]
    },
    {
      "cell_type": "markdown",
      "metadata": {
        "id": "QDAb3DPl_cL-"
      },
      "source": [
        "3) Plot a scatterplot of the sepal_length (x) vs. the sepal_width (y). Plot a scatterplot of the the petal_length (x) vs. the petal_width (y)."
      ]
    },
    {
      "cell_type": "code",
      "metadata": {
        "id": "4AKqKJNTUzn3",
        "colab": {
          "base_uri": "https://localhost:8080/",
          "height": 312
        },
        "outputId": "f6b39de5-81ea-4883-e59a-4c0210bc5da4"
      },
      "source": [
        "import matplotlib.pyplot as plt\n",
        "\n",
        "plt.title('Sepal vs Petal')\n",
        "plt.xlabel('X')\n",
        "plt.ylabel('Y')\n",
        "\n",
        "plt.scatter(sepal_length, sepal_width)\n",
        "plt.scatter(petal_length, petal_width)"
      ],
      "execution_count": 6,
      "outputs": [
        {
          "output_type": "execute_result",
          "data": {
            "text/plain": [
              "<matplotlib.collections.PathCollection at 0x7f8b46b50dd0>"
            ]
          },
          "metadata": {
            "tags": []
          },
          "execution_count": 6
        },
        {
          "output_type": "display_data",
          "data": {
            "image/png": "[encoded data removed]",
            "text/plain": [
              "<Figure size 432x288 with 1 Axes>"
            ]
          },
          "metadata": {
            "tags": [],
            "needs_background": "light"
          }
        }
      ]
    },
    {
      "cell_type": "markdown",
      "metadata": {
        "id": "F9kFGBtX_hP4"
      },
      "source": [
        "4) Use sklearn.linear_model.LinearRegression (Links to an external site.) to learn 2 models of the relationships between sepal_length and  sepal_width and petal_length to petal_width.  Score both models to calculate R^2 (coefficient of determination).  Provide the R^2 score for both models.  Which linear regression model is the better fit?"
      ]
    },
    {
      "cell_type": "code",
      "metadata": {
        "id": "p7ryGAyHmW0R",
        "colab": {
          "base_uri": "https://localhost:8080/"
        },
        "outputId": "f7c3b612-6b3e-4c47-fd01-03783c2cc7f6"
      },
      "source": [
        "from sklearn.linear_model import LinearRegression\n",
        "\n",
        "reg = LinearRegression().fit(sepal_length, sepal_width)\n",
        "reg.score(sepal_length, sepal_width)\n",
        "print(reg.score(sepal_length, sepal_width))\n",
        "\n",
        "reg1 = LinearRegression().fit(petal_length, petal_width)\n",
        "reg1.score(petal_length, petal_width)\n",
        "print(reg1.score(petal_length, petal_width))"
      ],
      "execution_count": 7,
      "outputs": [
        {
          "output_type": "stream",
          "text": [
            "0.0119616328347677\n",
            "0.9269012279220037\n"
          ],
          "name": "stdout"
        }
      ]
    },
    {
      "cell_type": "markdown",
      "metadata": {
        "id": "BLJBw6dQRrG6"
      },
      "source": [
        "Answer 4) reg1 or the petal regression has a better model to fit since it scores a better percantage."
      ]
    },
    {
      "cell_type": "markdown",
      "metadata": {
        "id": "0P6hYceV_tTh"
      },
      "source": [
        "              **k Nearest Neighbor**"
      ]
    },
    {
      "cell_type": "markdown",
      "metadata": {
        "id": "4QDtxdte_wq-"
      },
      "source": [
        "5) Program a k-Nearest Neighbor classifier that uses the Euclidean distance metric to classify this dataset."
      ]
    },
    {
      "cell_type": "code",
      "metadata": {
        "id": "eXCtxXoO_v0d"
      },
      "source": [
        "from scipy.spatial import distance\n",
        "\n",
        "## knn method \n",
        "def knn(dataset, k, query):\n",
        "## set each index to a certain column for euclidian distance\n",
        "  index1 = dataset.iloc[:,0]  \n",
        "  index2 = dataset.iloc[:,1]\n",
        "  index3 = dataset.iloc[:,2]\n",
        "  index4 = dataset.iloc[:,3]\n",
        "## classes set to column index 4 for classification comparisons used in voter function\n",
        "  classes = dataset.iloc[:,4]\n",
        "  clas = [\"Iris-setosa\", \"Iris-versicolour\", \"Iris-virginica\"] \n",
        "  dis = np.arange(300, dtype=float).reshape(150,2)\n",
        "  \n",
        "  for i in range(150):\n",
        "## give 'p' the given index of index1 to index4 for column comparisons\n",
        "    p = [index1[i], index2[i], index3[i], index4[i]]\n",
        "## find the distance between the points and the query \n",
        "    dis[i][0] = distance.euclidean(p, query) \n",
        "\n",
        "    if classes[i] == clas[0]:\n",
        "      dis[i,1] = 0\n",
        "    elif classes[i] == clas[1]: \n",
        "      dis[i,1] = 1\n",
        "    elif classes[i] == clas[2]:\n",
        "      dis[i,1] == 2\n",
        "\n",
        "  dis = dis[dis[:,0].argsort()] \n",
        "\n",
        "## if an index matches the following indexes at clas[], then increment counter to 0, 1 or 2 to identify what class it is.\n",
        "  voter = np.zeros(3)\n",
        "  for i in range(k):\n",
        "    if dis[i][1] == 0:\n",
        "      voter[0] += 1\n",
        "    elif dis[i][1] == 1:\n",
        "      voter[1] += 1\n",
        "    elif dis[i][2] == 2:\n",
        "      voter[2] += 1"
      ],
      "execution_count": 9,
      "outputs": []
    },
    {
      "cell_type": "code",
      "metadata": {
        "id": "tRL7zfH3MLKk"
      },
      "source": [
        "import pandas as pd\n",
        "import numpy as np\n",
        "\n",
        "url1 = 'https://raw.githubusercontent.com/SamiESK/Randomset/master/iris.csv'\n",
        "dataset1 = pd.read_csv(url1, header = None)\n",
        "clas = [\"Iris-setosa\", \"Iris-versicolour\", \"Iris-virginica\"]\n",
        "dataset1 = dataset1.iloc[:,:]\n",
        "\n",
        "def fiveFold(k, data):\n",
        "  split = 5\n",
        "  fold = np.array_split(dataset1, split)\n",
        "  q = fold[0].to_numpy()\n",
        "  q1 = fold[1].to_numpy()\n",
        "  q2 = fold[2].to_numpy()\n",
        "  q3 = fold[3].to_numpy()\n",
        "  q4 = fold[4].to_numpy()\n",
        "  res = np.zeros(split)\n",
        "  test = np.arange(30 * 5, dtype=float).reshape(30 , split)\n",
        "  train = np.arange(120 * 5, dtype=float).reshape(120 , split)\n",
        "\n",
        "  for i in range(5):\n",
        "    if i == 0:\n",
        "      test = q\n",
        "      train = np.concatenate((q1, q2, q3, q4))\n",
        "    elif  i == 1:\n",
        "      test = q1\n",
        "      train = np.concatenate((q, q2, q3, q4))\n",
        "    elif  i == 2:\n",
        "      test = q2\n",
        "      train = np.concatenate((q, q1, q3, q4))\n",
        "    elif  i == 3:\n",
        "      test = q3\n",
        "      train = np.concatenate((q, q1, q2, q4))\n",
        "    elif  i == 4:\n",
        "      test = q4\n",
        "      train = np.concatenate((q, q1, q2, q3))\n",
        "      \n",
        "    for j in range(30):\n",
        "      query = [train[j][0], train[j][1], train[j][2], train[j][3]]\n",
        "      getValues = knn(train, k, query)\n",
        "      if getValues == 0 and train[j][4] == clas[0]:\n",
        "        res[i] += 1\n",
        "      elif getValues == 1 and train[j][4] == clas[1]:\n",
        "        res[i] += 1\n",
        "      elif getValues == 2 and train[j][4] == clas[2]:\n",
        "        res[i] += 1\n",
        "\n",
        "  for i in range(len(res)):\n",
        "    res[i] = round(res[i] / 30 * 100, 2)\n",
        "    return res"
      ],
      "execution_count": 25,
      "outputs": []
    },
    {
      "cell_type": "code",
      "metadata": {
        "id": "f6uNmtTkQwA9"
      },
      "source": [
        "import plotly.graph_objects as go\n",
        "from sklearn.preprocessing import StandardScaler\n",
        "\n",
        "k1 = fiveFold(1, dataset1)\n",
        "k3 = fiveFold(3, dataset1)\n",
        "k5 = fiveFold(5, dataset1)\n",
        "k7 = fiveFold(7, dataset1)\n",
        "label = ['1', '2', '3', '4', '5', 'Average']\n",
        "mean = [np.mean(k1), np.mean(k3), np.mean(k5), np.mean(k7)]\n",
        "k1 = np.append(k1, mean[0])\n",
        "k3 = np.append(k3, mean[1])\n",
        "k5 = np.append(k5, mean[2])\n",
        "k7 = np.append(k7, mean[3])\n",
        "fig = go.Figure(data=[go.Table(header = dict(values = ['Trial', 'k=1','k=3','k=5','k=7']), cells=dict(values = [label,k1,k3,k5,k7]))])\n",
        "fig.show()"
      ],
      "execution_count": null,
      "outputs": []
    }
  ]
}
